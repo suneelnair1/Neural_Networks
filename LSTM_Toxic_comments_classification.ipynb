{
  "cells": [
    {
      "metadata": {
        "_cell_guid": "653a1648-764b-4ceb-bcd8-ddc7a10a8a98",
        "_uuid": "abae57d134b69b59944f0ec7bc70a1fc16cf62f7",
        "trusted": true
      },
      "cell_type": "code",
      "source": "# This Python 3 environment comes with many helpful analytics libraries installed\n# It is defined by the kaggle/python docker image: https://github.com/kaggle/docker-python\n# For example, here's several helpful packages to load in \n\nimport numpy as np # linear algebra\nimport pandas as pd # data processing, CSV file I/O (e.g. pd.read_csv)\n\n# Input data files are available in the \"../input/\" directory.\n# For example, running this (by clicking run or pressing Shift+Enter) will list the files in the input directory\n\nfrom subprocess import check_output\nprint(check_output([\"ls\", \"../input\"]).decode(\"utf8\"))\n\n# Any results you write to the current directory are saved as output.\n\nfrom keras.models import Model\nfrom keras.layers import Dense, Embedding, Input\nfrom keras.layers import LSTM, Bidirectional, GlobalMaxPool1D, Dropout\nfrom keras.preprocessing import text,sequence\nfrom keras.callbacks import EarlyStopping, ModelCheckpoint\n\nmax_features = 20000\nmaxlen = 100\n\ntrain = pd.read_csv(\"../input/train.csv\")\ntest = pd.read_csv(\"../input/test.csv\")\ntrain = train.sample(frac=1)\n\nlist_sentences_train = train[\"comment_text\"].fillna(\"CVxTz\").values\nlist_classes = [\"toxic\", \"severe_toxic\", \"obscene\", \"threat\", \"insult\", \"identity_hate\"]\ny = train[list_classes].values\nlist_sentences_test = test[\"comment_text\"].fillna(\"CVxTz\").values\n\ntokenizer = text.Tokenizer(num_words=max_features)\ntokenizer.fit_on_texts(list(list_sentences_train))\nlist_tokenized_train = tokenizer.texts_to_sequences(list_sentences_train)\nlist_tokenized_test = tokenizer.texts_to_sequences(list_sentences_test)\nX_t = sequence.pad_sequences(list_tokenized_train, maxlen=maxlen)\nX_te = sequence.pad_sequences(list_tokenized_test, maxlen=maxlen)\n\ndef get_model():\n    embed_size = 128\n    inp = Input(shape=(maxlen, ))\n    x = Embedding(max_features, embed_size)(inp)\n    x = Bidirectional(LSTM(50, return_sequences=True))(x)\n    x = GlobalMaxPool1D()(x)\n    x = Dropout(0.1)(x)\n    x = Dense(50, activation=\"relu\")(x)\n    x = Dropout(0.1)(x)\n    x = Dense(6, activation=\"sigmoid\")(x)\n    model = Model(inputs=inp, outputs=x)\n    model.compile(loss='binary_crossentropy',\n                  optimizer='adam',\n                  metrics=['accuracy'])\n\n    return model\n\nmodel = get_model()\nbatch_size = 32\nepochs = 2\n\n\nfile_path=\"weights_base.best.hdf5\"\ncheckpoint = ModelCheckpoint(file_path, monitor='val_loss', verbose=1, save_best_only=True, mode='min')\n\nearly = EarlyStopping(monitor=\"val_loss\", mode=\"min\", patience=20)\n\n\ncallbacks_list = [checkpoint, early] #early\nmodel.fit(X_t, y, batch_size=batch_size, epochs=epochs, validation_split=0.1, callbacks=callbacks_list)\n\nmodel.load_weights(file_path)\n\ny_test = model.predict(X_te)\n\n\n\nsample_submission = pd.read_csv(\"../input/sample_submission.csv\")\n\nsample_submission[list_classes] = y_test\n\nsample_submission.to_csv(\"submission.csv\", index=False)\n",
      "execution_count": null,
      "outputs": [
        {
          "output_type": "stream",
          "text": "sample_submission.csv\ntest.csv\ntrain.csv\n\nTrain on 143613 samples, validate on 15958 samples\nEpoch 1/2\n   960/143613 [..............................] - ETA: 31:33 - loss: 0.4760 - acc: 0.8497",
          "name": "stdout"
        }
      ]
    }
  ],
  "metadata": {
    "language_info": {
      "name": "python",
      "version": "3.6.4",
      "mimetype": "text/x-python",
      "codemirror_mode": {
        "name": "ipython",
        "version": 3
      },
      "pygments_lexer": "ipython3",
      "nbconvert_exporter": "python",
      "file_extension": ".py"
    },
    "kernelspec": {
      "display_name": "Python 3",
      "language": "python",
      "name": "python3"
    }
  },
  "nbformat": 4,
  "nbformat_minor": 1
}